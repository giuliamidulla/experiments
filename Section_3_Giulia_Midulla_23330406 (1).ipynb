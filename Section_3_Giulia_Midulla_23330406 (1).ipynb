{
  "nbformat": 4,
  "nbformat_minor": 0,
  "metadata": {
    "colab": {
      "provenance": []
    },
    "kernelspec": {
      "name": "python3",
      "display_name": "Python 3"
    },
    "language_info": {
      "name": "python"
    }
  },
  "cells": [
    {
      "cell_type": "markdown",
      "source": [
        "Pick two topics relating to your company's business that could be addressed or engaged with constructively using the knowledge and skills that you have developed from this module, specifically using two examples of your own e-tivity material and experiences on this module and direct specific references to the course material to make the arguments for it.\n",
        "\n",
        "\n",
        "*   Statements of two business topics / business processes in your company that could benefit from the domains elaborated in this module\n",
        "*   Elaborations on how the material in this module could be applied to address these issues through an small investigative project\n",
        "*   Discussions of the costs, benefits, opportunities, risks and trade-offs involved using such a small investigative project\n",
        "*   Examples for your own e-tivity material (some code snippets with corresponding outputs from your e-tivity work on this module) demonstrating utility of the technology to the two topics\n",
        "*   Elaboration on how a system arising from a small investigative project can be extended into the company's business processes and maintained/serviced/upgraded in the medium to longer term, along with the considerations and implications of this.\n",
        "\n",
        "\n"
      ],
      "metadata": {
        "id": "Te9qWnZ6LhRS"
      }
    },
    {
      "cell_type": "markdown",
      "source": [
        "This report aims to exemplify how the use of AI could help our company on the customer service side, and reduce the workload of helplines and support chats.\n",
        "Specifically, there are two topics that I would like to discuss: sentiment analysis and question answering."
      ],
      "metadata": {
        "id": "uAxMUouPOBR0"
      }
    },
    {
      "cell_type": "markdown",
      "source": [
        "# Sentiment Analysis\n",
        "\n",
        "> \"Sentiment analysis is the process of analyzing digital text to determine if the emotional tone of the message is positive, negative, or neutral\" ([Source](https://aws.amazon.com/what-is/sentiment-analysis/#:~:text=Sentiment%20analysis%20is%20the%20process,social%20media%20comments%2C%20and%20reviews.))\n",
        "\n",
        "\n",
        "\"Surprise and delight\" is our motto, and to do so it is imperative that we understand what users want from our company, and what they think of the products they purchase from us.\n",
        "It is easy to fall into an echo chamber and think everything is perfect, but that would only result in poor products that are unaligned with the clients' expectations.\n",
        "This is where I believe Sentiment Analysis comes into play. Thanks to the summarization of reviews and feedback we could have an objective idea of how people feel, and of their requests.\n",
        "\n",
        "First, we should start by gathering the feedback. I believe a good starting point would be our Feedback page, where clients send us comments and requests for new features. Customer service chats could also help identify the most common issues. External websites such as Trustpilot could introduce more variety, and comments about the company in general rather than about specific products.\n",
        "\n",
        "For this demostration, I will use three reviews from Trustpilot: one negative, one neutral and one positive.\n",
        "\n",
        "**Negative review**\n",
        "\n",
        "I have learned to hate the arrogance of Peach. Yes, their products are beautiful, but everything else is annoying. I recently swapped my very old iPeach 6 for a spanking new iPeach 15 Plus, really only because the battery life of the old phone was about ten minutes. Foolishly, I was quite excited about having a state of the art phone. I opened the box to find a short cable, which would only connect to my PeachBook i.e. I can only charge my phone when I am in the office. I have had to buy a charger, so that I can charge it at home. I looked in vain for an instruction booklet. Peach have the arrogance to believe that nobody needs instructions because Peach products are so intuitive. That may be true if you are a Silicon Valley techno geek, but not if you are technophobic art gallery owner. I have spent hours watching irritating Youtube videos, trying to understand how to use the darn thing.\n",
        "\n",
        "**Neutral review**\n",
        "\n",
        "Both some of the best, and worst, mobile phones.\n",
        "Peach makes some of the most powerful mobile phones thanks to their EXCELLENT silicon engineers, but then they ruin them by loading them with a heavily locked down OS, terrible batteries, and make them irritating to take apart to service.\n",
        "Their lithium batteries SUCK! They wear out after three days and afterwards need to be recharged after 17 femtoseconds.\n",
        "The iPeach 10 is genuinely one of the BEST mobile phones I've ever used, but I'm probably going to go with a generic low-end, rootable alternative next.\n",
        "\n",
        "**Positive review**\n",
        "\n",
        "I feel compelled to write this review after a horrible, depressing experience with one of the other multi-trillion dollar companies and wrote a negative review.\n",
        "Peach is a massive, if not the most massive company, and I have used them for over a decade.\n",
        "During this period, I have NEVER felt that I am being treated like an irrelevant customer. I have never felt that my data is being misused. I have never had a single issue with the customer services systems.\n",
        "If I want a refund - I request it and I get it. It’s simple to cancel subscriptions. It’s simple to dispute and find resolution at all times.\n",
        "In short, and I may sound like a fanboy - credit where it’s due, Peach behaves impeccably.\n",
        "Yes, their products are massively expensive, but if this is paid back with a respectful customer experience, I’m happy to pay for it. It’s all about trust.\n",
        "Trust is EARNED - and Peach has earned mine."
      ],
      "metadata": {
        "id": "FblSsbV-UgUb"
      }
    },
    {
      "cell_type": "code",
      "source": [
        "fulltext = ['I have learned to hate the arrogance of Peach. Yes, their products are beautiful, but everything else is annoying. I recently swapped my very old iPeach 6 for a spanking new iPeach 15 Plus, really only because the battery life of the old phone was about ten minutes. Foolishly, I was quite excited about having a state of the art phone. I opened the box to find a short cable, which would only connect to my PeachBook i.e. I can only charge my phone when I am in the office. I have had to buy a charger, so that I can charge it at home. I looked in vain for an instruction booklet. Peach have the arrogance to believe that nobody needs instructions because Peach products are so intuitive. That may be true if you are a Silicon Valley techno geek, but not if you are technophobic art gallery owner. I have spent hours watching irritating Youtube videos, trying to understand how to use the darn thing. Both some of the best, and worst, mobile phones. Peach makes some of the most powerful mobile phones thanks to their EXCELLENT silicon engineers, but then they ruin them by loading them with a heavily locked down OS, terrible batteries, and make them irritating to take apart to service. Their lithium batteries SUCK! They wear out after three days and afterwards need to be recharged after 17 femtoseconds. The iPeach 10 is genuinely one of the BEST mobile phones I\\'ve ever used, but I\\'m probably going to go with a generic low-end, rootable alternative next. I feel compelled to write this review after a horrible, depressing experience with one of the other multi-trillion dollar companies and wrote a negative review. Peach is a massive, if not the most massive company, and I have used them for over a decade. During this period, I have NEVER felt that I am being treated like an irrelevant customer. I have never felt that my data is being misused. I have never had a single issue with the customer services systems. If I want a refund - I request it and I get it. It’s simple to cancel subscriptions. It’s simple to dispute and find resolution at all times. In short, and I may sound like a fanboy - credit where it’s due, Peach behaves impeccably. Yes, their products are massively expensive, but if this is paid back with a respectful customer experience, I’m happy to pay for it. It’s all about trust. Trust is EARNED - and Peach has earned mine.']\n",
        "summarizer = pipeline(\"summarization\")\n",
        "outputs = summarizer(fulltext, max_length=3000, clean_up_tokenization_spaces=True)\n",
        "print(outputs[0]['summary_text'])"
      ],
      "metadata": {
        "colab": {
          "base_uri": "https://localhost:8080/"
        },
        "id": "mGZXXFel7Cqk",
        "outputId": "f1e7b66d-d3ec-4e06-859d-6b02b23e7fa6",
        "cellView": "code"
      },
      "execution_count": null,
      "outputs": [
        {
          "output_type": "stream",
          "name": "stdout",
          "text": [
            " iPeach 10 is genuinely one of the best mobile phones I've ever used, but I'm\n",
            "probably going to go with a generic low-end, rootable alternative next. I have\n",
            "spent hours watching irritating Youtube videos, trying to understand how to use\n",
            "the darn thing. I feel compelled to write this review after a horrible,\n",
            "depressing experience.\n"
          ]
        }
      ]
    },
    {
      "cell_type": "markdown",
      "source": [
        "Once the text is summarised, we can use a classifier to determine the sentiment. Of course this is not necessary for such short texts, but it would be fundamental if this approach was expanded to the thousands of reviews we receive each day."
      ],
      "metadata": {
        "id": "OFpODMeKceMe"
      }
    },
    {
      "cell_type": "code",
      "source": [
        "gen_sentiment = classifier(outputs[0]['summary_text'])\n",
        "print(gen_sentiment)"
      ],
      "metadata": {
        "colab": {
          "base_uri": "https://localhost:8080/"
        },
        "id": "C0dNIWB4eeYM",
        "outputId": "8c6de976-a3c1-4791-c795-8f1d482ffce0"
      },
      "execution_count": null,
      "outputs": [
        {
          "output_type": "stream",
          "name": "stdout",
          "text": [
            "[{'label': 'NEGATIVE', 'score': 0.997546374797821}]\n"
          ]
        }
      ]
    },
    {
      "cell_type": "markdown",
      "source": [
        "The majory of the cost and effort would be spent in gathering the reviews to be analysed. Of course there are some risks involved in this method. The summarization isn't perfect, and can sometimes miss crucial points. The classifier can also lead to false conclusions. Non-explicit reviews can throw it off, especially when they contain a lot of negations such as \"I disagree with people who say this is a bad product\". It is important to not abandon human analysts, who can pick up on nuances that the AI would otherwise miss. Nonetheless, automated sentiment analysis is an extremely common and useful tool, that would bring great benefits to our company.\n",
        "In order to maintain the accuracy and gather fresh data it would be fundamental to use reviews that have been written during the current financial quarter. This would also help identify trends and see how our products age."
      ],
      "metadata": {
        "id": "7xqSEwZhlZl0"
      }
    },
    {
      "cell_type": "markdown",
      "source": [
        "# Question Answering\n",
        "\n",
        "Other than our producs, the main strenght of our company lies in the impeccable customer service, generally recognised as one of the best among all tech companies.\n",
        "That said, it is always possible to improve. Customers often ask very similar questions, and it would be more efficient if we could avoid having those questions sent to the support helplines. If customers were able to find the answers autonomously, helplines would have more time to deal with issues that require human help, such as refunds or very niche issues."
      ],
      "metadata": {
        "id": "BAWCcoQ6xKCW"
      }
    },
    {
      "cell_type": "code",
      "source": [
        "reader = pipeline(\"question-answering\")\n",
        "question = \"What is the customer's opinion of Peach?\"\n",
        "answer_outputs = []\n",
        "for single_text in text:\n",
        "    answer_output = reader(question=question, context=single_text)\n",
        "    answer_outputs.append(answer_output)\n",
        "df = pd.DataFrame(answer_outputs)\n",
        "pd.DataFrame(answer_outputs)"
      ],
      "metadata": {
        "id": "Gh9sSylsBopF",
        "colab": {
          "base_uri": "https://localhost:8080/",
          "height": 143
        },
        "outputId": "f85ac24a-6fc1-488f-be61-77a3b852bde2"
      },
      "execution_count": null,
      "outputs": [
        {
          "output_type": "execute_result",
          "data": {
            "text/plain": [
              "      score  start  end                               answer\n",
              "0  0.094645    105  113                             annoying\n",
              "1  0.119613    251  286  irritating to take apart to service\n",
              "2  0.059103    669  693             Peach behaves impeccably"
            ],
            "text/html": [
              "\n",
              "  <div id=\"df-a9799618-88b5-4628-b2f3-d1a1597dc809\" class=\"colab-df-container\">\n",
              "    <div>\n",
              "<style scoped>\n",
              "    .dataframe tbody tr th:only-of-type {\n",
              "        vertical-align: middle;\n",
              "    }\n",
              "\n",
              "    .dataframe tbody tr th {\n",
              "        vertical-align: top;\n",
              "    }\n",
              "\n",
              "    .dataframe thead th {\n",
              "        text-align: right;\n",
              "    }\n",
              "</style>\n",
              "<table border=\"1\" class=\"dataframe\">\n",
              "  <thead>\n",
              "    <tr style=\"text-align: right;\">\n",
              "      <th></th>\n",
              "      <th>score</th>\n",
              "      <th>start</th>\n",
              "      <th>end</th>\n",
              "      <th>answer</th>\n",
              "    </tr>\n",
              "  </thead>\n",
              "  <tbody>\n",
              "    <tr>\n",
              "      <th>0</th>\n",
              "      <td>0.094645</td>\n",
              "      <td>105</td>\n",
              "      <td>113</td>\n",
              "      <td>annoying</td>\n",
              "    </tr>\n",
              "    <tr>\n",
              "      <th>1</th>\n",
              "      <td>0.119613</td>\n",
              "      <td>251</td>\n",
              "      <td>286</td>\n",
              "      <td>irritating to take apart to service</td>\n",
              "    </tr>\n",
              "    <tr>\n",
              "      <th>2</th>\n",
              "      <td>0.059103</td>\n",
              "      <td>669</td>\n",
              "      <td>693</td>\n",
              "      <td>Peach behaves impeccably</td>\n",
              "    </tr>\n",
              "  </tbody>\n",
              "</table>\n",
              "</div>\n",
              "    <div class=\"colab-df-buttons\">\n",
              "\n",
              "  <div class=\"colab-df-container\">\n",
              "    <button class=\"colab-df-convert\" onclick=\"convertToInteractive('df-a9799618-88b5-4628-b2f3-d1a1597dc809')\"\n",
              "            title=\"Convert this dataframe to an interactive table.\"\n",
              "            style=\"display:none;\">\n",
              "\n",
              "  <svg xmlns=\"http://www.w3.org/2000/svg\" height=\"24px\" viewBox=\"0 -960 960 960\">\n",
              "    <path d=\"M120-120v-720h720v720H120Zm60-500h600v-160H180v160Zm220 220h160v-160H400v160Zm0 220h160v-160H400v160ZM180-400h160v-160H180v160Zm440 0h160v-160H620v160ZM180-180h160v-160H180v160Zm440 0h160v-160H620v160Z\"/>\n",
              "  </svg>\n",
              "    </button>\n",
              "\n",
              "  <style>\n",
              "    .colab-df-container {\n",
              "      display:flex;\n",
              "      gap: 12px;\n",
              "    }\n",
              "\n",
              "    .colab-df-convert {\n",
              "      background-color: #E8F0FE;\n",
              "      border: none;\n",
              "      border-radius: 50%;\n",
              "      cursor: pointer;\n",
              "      display: none;\n",
              "      fill: #1967D2;\n",
              "      height: 32px;\n",
              "      padding: 0 0 0 0;\n",
              "      width: 32px;\n",
              "    }\n",
              "\n",
              "    .colab-df-convert:hover {\n",
              "      background-color: #E2EBFA;\n",
              "      box-shadow: 0px 1px 2px rgba(60, 64, 67, 0.3), 0px 1px 3px 1px rgba(60, 64, 67, 0.15);\n",
              "      fill: #174EA6;\n",
              "    }\n",
              "\n",
              "    .colab-df-buttons div {\n",
              "      margin-bottom: 4px;\n",
              "    }\n",
              "\n",
              "    [theme=dark] .colab-df-convert {\n",
              "      background-color: #3B4455;\n",
              "      fill: #D2E3FC;\n",
              "    }\n",
              "\n",
              "    [theme=dark] .colab-df-convert:hover {\n",
              "      background-color: #434B5C;\n",
              "      box-shadow: 0px 1px 3px 1px rgba(0, 0, 0, 0.15);\n",
              "      filter: drop-shadow(0px 1px 2px rgba(0, 0, 0, 0.3));\n",
              "      fill: #FFFFFF;\n",
              "    }\n",
              "  </style>\n",
              "\n",
              "    <script>\n",
              "      const buttonEl =\n",
              "        document.querySelector('#df-a9799618-88b5-4628-b2f3-d1a1597dc809 button.colab-df-convert');\n",
              "      buttonEl.style.display =\n",
              "        google.colab.kernel.accessAllowed ? 'block' : 'none';\n",
              "\n",
              "      async function convertToInteractive(key) {\n",
              "        const element = document.querySelector('#df-a9799618-88b5-4628-b2f3-d1a1597dc809');\n",
              "        const dataTable =\n",
              "          await google.colab.kernel.invokeFunction('convertToInteractive',\n",
              "                                                    [key], {});\n",
              "        if (!dataTable) return;\n",
              "\n",
              "        const docLinkHtml = 'Like what you see? Visit the ' +\n",
              "          '<a target=\"_blank\" href=https://colab.research.google.com/notebooks/data_table.ipynb>data table notebook</a>'\n",
              "          + ' to learn more about interactive tables.';\n",
              "        element.innerHTML = '';\n",
              "        dataTable['output_type'] = 'display_data';\n",
              "        await google.colab.output.renderOutput(dataTable, element);\n",
              "        const docLink = document.createElement('div');\n",
              "        docLink.innerHTML = docLinkHtml;\n",
              "        element.appendChild(docLink);\n",
              "      }\n",
              "    </script>\n",
              "  </div>\n",
              "\n",
              "\n",
              "<div id=\"df-441ae99b-8945-4c7a-9ca6-63c878a8f47f\">\n",
              "  <button class=\"colab-df-quickchart\" onclick=\"quickchart('df-441ae99b-8945-4c7a-9ca6-63c878a8f47f')\"\n",
              "            title=\"Suggest charts\"\n",
              "            style=\"display:none;\">\n",
              "\n",
              "<svg xmlns=\"http://www.w3.org/2000/svg\" height=\"24px\"viewBox=\"0 0 24 24\"\n",
              "     width=\"24px\">\n",
              "    <g>\n",
              "        <path d=\"M19 3H5c-1.1 0-2 .9-2 2v14c0 1.1.9 2 2 2h14c1.1 0 2-.9 2-2V5c0-1.1-.9-2-2-2zM9 17H7v-7h2v7zm4 0h-2V7h2v10zm4 0h-2v-4h2v4z\"/>\n",
              "    </g>\n",
              "</svg>\n",
              "  </button>\n",
              "\n",
              "<style>\n",
              "  .colab-df-quickchart {\n",
              "      --bg-color: #E8F0FE;\n",
              "      --fill-color: #1967D2;\n",
              "      --hover-bg-color: #E2EBFA;\n",
              "      --hover-fill-color: #174EA6;\n",
              "      --disabled-fill-color: #AAA;\n",
              "      --disabled-bg-color: #DDD;\n",
              "  }\n",
              "\n",
              "  [theme=dark] .colab-df-quickchart {\n",
              "      --bg-color: #3B4455;\n",
              "      --fill-color: #D2E3FC;\n",
              "      --hover-bg-color: #434B5C;\n",
              "      --hover-fill-color: #FFFFFF;\n",
              "      --disabled-bg-color: #3B4455;\n",
              "      --disabled-fill-color: #666;\n",
              "  }\n",
              "\n",
              "  .colab-df-quickchart {\n",
              "    background-color: var(--bg-color);\n",
              "    border: none;\n",
              "    border-radius: 50%;\n",
              "    cursor: pointer;\n",
              "    display: none;\n",
              "    fill: var(--fill-color);\n",
              "    height: 32px;\n",
              "    padding: 0;\n",
              "    width: 32px;\n",
              "  }\n",
              "\n",
              "  .colab-df-quickchart:hover {\n",
              "    background-color: var(--hover-bg-color);\n",
              "    box-shadow: 0 1px 2px rgba(60, 64, 67, 0.3), 0 1px 3px 1px rgba(60, 64, 67, 0.15);\n",
              "    fill: var(--button-hover-fill-color);\n",
              "  }\n",
              "\n",
              "  .colab-df-quickchart-complete:disabled,\n",
              "  .colab-df-quickchart-complete:disabled:hover {\n",
              "    background-color: var(--disabled-bg-color);\n",
              "    fill: var(--disabled-fill-color);\n",
              "    box-shadow: none;\n",
              "  }\n",
              "\n",
              "  .colab-df-spinner {\n",
              "    border: 2px solid var(--fill-color);\n",
              "    border-color: transparent;\n",
              "    border-bottom-color: var(--fill-color);\n",
              "    animation:\n",
              "      spin 1s steps(1) infinite;\n",
              "  }\n",
              "\n",
              "  @keyframes spin {\n",
              "    0% {\n",
              "      border-color: transparent;\n",
              "      border-bottom-color: var(--fill-color);\n",
              "      border-left-color: var(--fill-color);\n",
              "    }\n",
              "    20% {\n",
              "      border-color: transparent;\n",
              "      border-left-color: var(--fill-color);\n",
              "      border-top-color: var(--fill-color);\n",
              "    }\n",
              "    30% {\n",
              "      border-color: transparent;\n",
              "      border-left-color: var(--fill-color);\n",
              "      border-top-color: var(--fill-color);\n",
              "      border-right-color: var(--fill-color);\n",
              "    }\n",
              "    40% {\n",
              "      border-color: transparent;\n",
              "      border-right-color: var(--fill-color);\n",
              "      border-top-color: var(--fill-color);\n",
              "    }\n",
              "    60% {\n",
              "      border-color: transparent;\n",
              "      border-right-color: var(--fill-color);\n",
              "    }\n",
              "    80% {\n",
              "      border-color: transparent;\n",
              "      border-right-color: var(--fill-color);\n",
              "      border-bottom-color: var(--fill-color);\n",
              "    }\n",
              "    90% {\n",
              "      border-color: transparent;\n",
              "      border-bottom-color: var(--fill-color);\n",
              "    }\n",
              "  }\n",
              "</style>\n",
              "\n",
              "  <script>\n",
              "    async function quickchart(key) {\n",
              "      const quickchartButtonEl =\n",
              "        document.querySelector('#' + key + ' button');\n",
              "      quickchartButtonEl.disabled = true;  // To prevent multiple clicks.\n",
              "      quickchartButtonEl.classList.add('colab-df-spinner');\n",
              "      try {\n",
              "        const charts = await google.colab.kernel.invokeFunction(\n",
              "            'suggestCharts', [key], {});\n",
              "      } catch (error) {\n",
              "        console.error('Error during call to suggestCharts:', error);\n",
              "      }\n",
              "      quickchartButtonEl.classList.remove('colab-df-spinner');\n",
              "      quickchartButtonEl.classList.add('colab-df-quickchart-complete');\n",
              "    }\n",
              "    (() => {\n",
              "      let quickchartButtonEl =\n",
              "        document.querySelector('#df-441ae99b-8945-4c7a-9ca6-63c878a8f47f button');\n",
              "      quickchartButtonEl.style.display =\n",
              "        google.colab.kernel.accessAllowed ? 'block' : 'none';\n",
              "    })();\n",
              "  </script>\n",
              "</div>\n",
              "    </div>\n",
              "  </div>\n"
            ],
            "application/vnd.google.colaboratory.intrinsic+json": {
              "type": "dataframe",
              "summary": "{\n  \"name\": \"pd\",\n  \"rows\": 3,\n  \"fields\": [\n    {\n      \"column\": \"score\",\n      \"properties\": {\n        \"dtype\": \"number\",\n        \"std\": 0.030408516576935215,\n        \"min\": 0.0591030977666378,\n        \"max\": 0.11961296945810318,\n        \"num_unique_values\": 3,\n        \"samples\": [\n          0.09464482963085175,\n          0.11961296945810318,\n          0.0591030977666378\n        ],\n        \"semantic_type\": \"\",\n        \"description\": \"\"\n      }\n    },\n    {\n      \"column\": \"start\",\n      \"properties\": {\n        \"dtype\": \"number\",\n        \"std\": 292,\n        \"min\": 105,\n        \"max\": 669,\n        \"num_unique_values\": 3,\n        \"samples\": [\n          105,\n          251,\n          669\n        ],\n        \"semantic_type\": \"\",\n        \"description\": \"\"\n      }\n    },\n    {\n      \"column\": \"end\",\n      \"properties\": {\n        \"dtype\": \"number\",\n        \"std\": 297,\n        \"min\": 113,\n        \"max\": 693,\n        \"num_unique_values\": 3,\n        \"samples\": [\n          113,\n          286,\n          693\n        ],\n        \"semantic_type\": \"\",\n        \"description\": \"\"\n      }\n    },\n    {\n      \"column\": \"answer\",\n      \"properties\": {\n        \"dtype\": \"string\",\n        \"num_unique_values\": 3,\n        \"samples\": [\n          \"annoying\",\n          \"irritating to take apart to service\",\n          \"Peach behaves impeccably\"\n        ],\n        \"semantic_type\": \"\",\n        \"description\": \"\"\n      }\n    }\n  ]\n}"
            }
          },
          "metadata": {},
          "execution_count": 31
        }
      ]
    }
  ]
}